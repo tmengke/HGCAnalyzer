{
 "cells": [
  {
   "cell_type": "markdown",
   "metadata": {},
   "source": [
    "the script can be running either in CMSSW environment or a system with pyhon2/root installed"
   ]
  },
  {
   "cell_type": "code",
   "execution_count": 1,
   "metadata": {},
   "outputs": [
    {
     "name": "stdout",
     "output_type": "stream",
     "text": [
      "Welcome to JupyROOT 6.20/09\n"
     ]
    }
   ],
   "source": [
    "import ROOT\n",
    "import math\n",
    "from __future__ import division\n",
    "import numpy as np\n",
    "import matplotlib.pyplot as plt"
   ]
  },
  {
   "cell_type": "code",
   "execution_count": 2,
   "metadata": {},
   "outputs": [],
   "source": [
    "tf = ROOT.TFile.Open(\"root://cmseos.fnal.gov://store/user/tmengke/hgcdpg/samples/pu_1photon_E100.root\")\n",
    "tree = tf.Get(\"hgcAnalyzer/tree\")"
   ]
  },
  {
   "cell_type": "code",
   "execution_count": 3,
   "metadata": {},
   "outputs": [],
   "source": [
    "def dist(v1,v2):\n",
    "    return math.sqrt((v1.X()-v2.X())**2+(v1.Y()-v2.Y())**2+(v1.Z()-v2.Z())**2)"
   ]
  },
  {
   "cell_type": "markdown",
   "metadata": {},
   "source": [
    "matching the trackster with highest number of layerclusters from caloparticles\n",
    "and save the index of that trackster"
   ]
  },
  {
   "cell_type": "code",
   "execution_count": 6,
   "metadata": {},
   "outputs": [],
   "source": [
    "tk0_E=[]\n",
    "matchE=[]\n",
    "tk0=[]\n",
    "for it,t in enumerate(tree):\n",
    "    match=[]\n",
    "    tvx={}\n",
    "    #finding matched layerclusters\n",
    "    for ix,x in enumerate(t.tracksterMerge_vertices):\n",
    "        tmp=set(t.cp2lcId[0])&set(x)\n",
    "        match.append((len(tmp),ix,tmp))\n",
    "    match.sort(reverse=True)\n",
    "    tk0_idx=match[0][1]\n",
    "    tk0.append(tk0_idx)\n",
    "    tk0_E.append(t.tracksterMerge_raw_energy[tk0_idx])\n",
    "    mLc=np.array(list(match[0][2]))\n",
    "    cplctmp=0\n",
    "    \n",
    "    #calculate matching energy\n",
    "    for x in mLc:\n",
    "        for iy, y in enumerate(t.cp2lcId[0]):\n",
    "            if x==y:\n",
    "                for iz,z in enumerate(t.tracksterMerge_vertices[tk0_idx]):\n",
    "                    if x==z:\n",
    "                        cplctmp+=t.cp2lcEnergy[0][iy]/t.tracksterMerge_vertex_multiplicity[tk0_idx][iz]\n",
    "    matchE.append(cplctmp)\n",
    "    if it%100==0:\n",
    "        print (it)"
   ]
  },
  {
   "cell_type": "code",
   "execution_count": 7,
   "metadata": {},
   "outputs": [
    {
     "data": {
      "image/png": "[encoded data removed]",
      "text/plain": [
       "<Figure size 432x288 with 1 Axes>"
      ]
     },
     "metadata": {
      "needs_background": "light"
     },
     "output_type": "display_data"
    }
   ],
   "source": [
    "plt.hist(np.array(matchE)/np.array(tk0_E),bins=30)\n",
    "plt.xlabel(\"ratio\")\n",
    "plt.show()"
   ]
  },
  {
   "cell_type": "markdown",
   "metadata": {},
   "source": [
    "using the matched trackster index to do the analysis"
   ]
  },
  {
   "cell_type": "code",
   "execution_count": 12,
   "metadata": {},
   "outputs": [],
   "source": [
    "tk0_Pt=[]\n",
    "for it,t in enumerate(tree):\n",
    "    tk0_Pt.append(t.tracksterMerge_raw_pt[tk0[it]])\n",
    "    if it==100:\n",
    "        break"
   ]
  },
  {
   "cell_type": "code",
   "execution_count": 13,
   "metadata": {},
   "outputs": [
    {
     "data": {
      "image/png": "[encoded data removed]",
      "text/plain": [
       "<Figure size 432x288 with 1 Axes>"
      ]
     },
     "metadata": {
      "needs_background": "light"
     },
     "output_type": "display_data"
    }
   ],
   "source": [
    "plt.hist(tk0_Pt,bins=30)\n",
    "plt.xlabel(\"pt[GeV]\")\n",
    "plt.show()"
   ]
  },
  {
   "cell_type": "code",
   "execution_count": null,
   "metadata": {},
   "outputs": [],
   "source": []
  }
 ],
 "metadata": {
  "kernelspec": {
   "display_name": "Python 2",
   "language": "python",
   "name": "python2"
  },
  "language_info": {
   "codemirror_mode": {
    "name": "ipython",
    "version": 2
   },
   "file_extension": ".py",
   "mimetype": "text/x-python",
   "name": "python",
   "nbconvert_exporter": "python",
   "pygments_lexer": "ipython2",
   "version": "2.7.15+"
  }
 },
 "nbformat": 4,
 "nbformat_minor": 2
}
